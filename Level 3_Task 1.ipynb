{
 "cells": [
  {
   "cell_type": "code",
   "execution_count": null,
   "metadata": {},
   "outputs": [],
   "source": [
    "import pandas as pd\n",
    "import matplotlib.pyplot as plt\n",
    "from collections import Counter\n",
    "import seaborn as sns"
   ]
  },
  {
   "cell_type": "code",
   "execution_count": null,
   "metadata": {},
   "outputs": [],
   "source": [
    "df = pd.read_csv('C:\\\\Users\\\\arnab\\\\Desktop\\\\JUPYTER NOTEBOOK\\\\INTERNSHIP\\\\Cognifyz\\\\Dataset.csv')"
   ]
  },
  {
   "cell_type": "code",
   "execution_count": null,
   "metadata": {},
   "outputs": [],
   "source": [
    "df.isnull().sum()"
   ]
  },
  {
   "cell_type": "code",
   "execution_count": null,
   "metadata": {},
   "outputs": [],
   "source": [
    "df = df[pd.to_numeric(df['Aggregate rating'], errors='coerce') >= 0].fillna(method='ffill')"
   ]
  },
  {
   "cell_type": "code",
   "execution_count": null,
   "metadata": {},
   "outputs": [],
   "source": [
    "def clean_text(text):\n",
    "  if pd.isna(text):\n",
    "    return 'NA'\n",
    "  text = text.lower()\n",
    "  cleaned_text = ''.join([char for char in text if char.isalnum() or char.isspace()])\n",
    "  stopwords = [\"a\", \"an\", \"the\", \"is\", \"in\", \"on\", \"of\", \"for\", \"at\", \"by\", \"with\", \"i\"]\n",
    "  cleaned_text = \" \".join([word for word in cleaned_text.split() if word not in stopwords])\n",
    "  return cleaned_text\n"
   ]
  },
  {
   "cell_type": "code",
   "execution_count": null,
   "metadata": {},
   "outputs": [],
   "source": [
    "df['cleaned_text'] = df['Rating text'].apply(clean_text)"
   ]
  },
  {
   "cell_type": "code",
   "execution_count": null,
   "metadata": {},
   "outputs": [],
   "source": [
    "pos_keyword = Counter()\n",
    "neg_keyword = Counter()\n",
    "for index, row in df.iterrows():\n",
    "    if row['Aggregate rating']>=4:\n",
    "        pos_keyword.update(row['Rating text'])\n",
    "    else:\n",
    "        neg_keyword.update(row['Rating text'])"
   ]
  },
  {
   "cell_type": "code",
   "execution_count": null,
   "metadata": {},
   "outputs": [],
   "source": [
    "top_positive_words = pos_keyword.most_common(10)\n",
    "top_negative_words = neg_keyword.most_common(10)\n",
    "print(\"Top Positive Words:\", top_positive_words)\n",
    "print(\"Top Negative Words:\", top_negative_words)"
   ]
  },
  {
   "cell_type": "code",
   "execution_count": null,
   "metadata": {},
   "outputs": [],
   "source": [
    "df['review_length'] = df['Rating text'].apply(len)\n",
    "average_length = df['review_length'].mean()\n",
    "\n",
    "print(\"Average Review Length:\", average_length)"
   ]
  },
  {
   "cell_type": "code",
   "execution_count": null,
   "metadata": {},
   "outputs": [],
   "source": [
    "df1 = df[df['cleaned_text'] != 'NA']\n",
    "average_length = df1.groupby('Aggregate rating')['review_length'].mean()"
   ]
  },
  {
   "cell_type": "code",
   "execution_count": null,
   "metadata": {},
   "outputs": [],
   "source": [
    "plt.figure(figsize=(10, 6))\n",
    "sns.barplot(x=average_length.index, y=average_length.values, color=\"skyblue\")\n",
    "plt.ylabel(\"Rating\")\n",
    "plt.xlabel(\"Average Review Length\")\n",
    "plt.title(\"Average Review Length by Rating\")\n",
    "plt.grid()\n",
    "plt.show()\n"
   ]
  },
  {
   "cell_type": "code",
   "execution_count": null,
   "metadata": {},
   "outputs": [],
   "source": []
  }
 ],
 "metadata": {
  "kernelspec": {
   "display_name": "Python 3",
   "language": "python",
   "name": "python3"
  },
  "language_info": {
   "codemirror_mode": {
    "name": "ipython",
    "version": 3
   },
   "file_extension": ".py",
   "mimetype": "text/x-python",
   "name": "python",
   "nbconvert_exporter": "python",
   "pygments_lexer": "ipython3",
   "version": "3.12.3"
  }
 },
 "nbformat": 4,
 "nbformat_minor": 2
}
