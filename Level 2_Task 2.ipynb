{
 "cells": [
  {
   "cell_type": "code",
   "execution_count": null,
   "metadata": {},
   "outputs": [],
   "source": [
    "import pandas as pd"
   ]
  },
  {
   "cell_type": "code",
   "execution_count": null,
   "metadata": {},
   "outputs": [],
   "source": [
    "df=pd.read_csv('C:\\\\Users\\\\arnab\\\\Desktop\\\\JUPYTER NOTEBOOK\\\\INTERNSHIP\\\\Cognifyz\\\\Dataset.csv')"
   ]
  },
  {
   "cell_type": "code",
   "execution_count": null,
   "metadata": {},
   "outputs": [],
   "source": [
    "df.isnull().sum()"
   ]
  },
  {
   "cell_type": "code",
   "execution_count": null,
   "metadata": {},
   "outputs": [],
   "source": [
    "def clean_cuisine(Cuisines):\n",
    "  try:\n",
    "    if pd.isna(Cuisines):\n",
    "      return 'NA'\n",
    "    cuisine = Cuisines.strip()\n",
    "    cuisine = Cuisines.lower()\n",
    "    return cuisine\n",
    "  except AttributeError:\n",
    "    return 'NA'"
   ]
  },
  {
   "cell_type": "code",
   "execution_count": null,
   "metadata": {},
   "outputs": [],
   "source": [
    "df['Cuisines'] = df['Cuisines'].apply(clean_cuisine)"
   ]
  },
  {
   "cell_type": "code",
   "execution_count": null,
   "metadata": {},
   "outputs": [],
   "source": [
    "df = df[pd.to_numeric(df['Aggregate rating'], errors='coerce') >= 0].fillna(method='ffill')"
   ]
  },
  {
   "cell_type": "code",
   "execution_count": null,
   "metadata": {},
   "outputs": [],
   "source": [
    "df.info()\n",
    "df.isnull().sum()"
   ]
  },
  {
   "cell_type": "code",
   "execution_count": null,
   "metadata": {},
   "outputs": [],
   "source": [
    "if \"Cuisines\" in df.columns:\n",
    "  combo_ratings = df.groupby(\"Cuisines\")[\"Aggregate rating\"].mean()\n",
    "  \n",
    "  print(\"Top 10 Most Common Cuisine Combinations:\")\n",
    "  print(combo_ratings.sort_values(ascending=False).head(10))\n",
    "\n",
    "  high_rated_combos = combo_ratings[combo_ratings > 4.2]\n",
    "  print(\"\\nCuisine Combinations with Average Rating Above 4.2:\")\n",
    "  print(high_rated_combos)\n",
    "else:\n",
    "  print(\"\\n'Cuisine Combination' column not found.\")"
   ]
  },
  {
   "cell_type": "code",
   "execution_count": null,
   "metadata": {},
   "outputs": [],
   "source": []
  }
 ],
 "metadata": {
  "kernelspec": {
   "display_name": "Python 3",
   "language": "python",
   "name": "python3"
  },
  "language_info": {
   "codemirror_mode": {
    "name": "ipython",
    "version": 3
   },
   "file_extension": ".py",
   "mimetype": "text/x-python",
   "name": "python",
   "nbconvert_exporter": "python",
   "pygments_lexer": "ipython3",
   "version": "3.12.0"
  }
 },
 "nbformat": 4,
 "nbformat_minor": 2
}
