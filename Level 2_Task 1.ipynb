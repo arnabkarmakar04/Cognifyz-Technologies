{
 "cells": [
  {
   "cell_type": "code",
   "execution_count": null,
   "metadata": {},
   "outputs": [],
   "source": [
    "import pandas as pd\n",
    "import matplotlib.pyplot as plt"
   ]
  },
  {
   "cell_type": "code",
   "execution_count": null,
   "metadata": {},
   "outputs": [],
   "source": [
    "df=pd.read_csv('C:\\\\Users\\\\arnab\\\\Desktop\\\\JUPYTER NOTEBOOK\\\\INTERNSHIP\\\\Cognifyz\\\\Dataset.csv')"
   ]
  },
  {
   "cell_type": "code",
   "execution_count": null,
   "metadata": {},
   "outputs": [],
   "source": [
    "df.info()\n",
    "df.isnull().sum()"
   ]
  },
  {
   "cell_type": "code",
   "execution_count": null,
   "metadata": {},
   "outputs": [],
   "source": [
    "df1 = df[pd.to_numeric(df['Aggregate rating'], errors='coerce') >= 0].fillna(method='ffill')"
   ]
  },
  {
   "cell_type": "code",
   "execution_count": null,
   "metadata": {},
   "outputs": [],
   "source": [
    "df1 = df[pd.to_numeric(df['Votes'], errors='coerce') >= 0].fillna(method='ffill')"
   ]
  },
  {
   "cell_type": "code",
   "execution_count": null,
   "metadata": {},
   "outputs": [],
   "source": [
    "df1.info()\n",
    "df1.isnull().sum()"
   ]
  },
  {
   "cell_type": "code",
   "execution_count": null,
   "metadata": {},
   "outputs": [],
   "source": [
    "plt.hist(df1['Aggregate rating'], bins=10, edgecolor='black')\n",
    "plt.xlabel('Aggregate Rating')\n",
    "plt.ylabel('Number of Restaurants')\n",
    "plt.title('Distribution of Restaurant Ratings')\n",
    "plt.show()"
   ]
  },
  {
   "cell_type": "code",
   "execution_count": null,
   "metadata": {},
   "outputs": [],
   "source": [
    "quartiles = df1['Aggregate rating'].quantile([0.25, 0.5, 0.75])\n",
    "q1, q2, q3 = quartiles[0.25], quartiles[0.5], quartiles[0.75]"
   ]
  },
  {
   "cell_type": "code",
   "execution_count": null,
   "metadata": {},
   "outputs": [],
   "source": [
    "q1_count = df1[(df1['Aggregate rating'] >= q1) & (df1['Aggregate rating'] < q2)]['Aggregate rating'].count()\n",
    "q2_count = df1[(df1['Aggregate rating'] >= q2) & (df1['Aggregate rating'] < q3)]['Aggregate rating'].count()\n",
    "q3_count = df1[df1['Aggregate rating'] >= q3]['Aggregate rating'].count()"
   ]
  },
  {
   "cell_type": "code",
   "execution_count": null,
   "metadata": {},
   "outputs": [],
   "source": [
    "most_frequent_range = \"\"\n",
    "max_count = max(q1_count, q2_count, q3_count)\n",
    "if max_count == q1_count:\n",
    "    most_frequent_range = f\"{q1:.2f} - {q2:.2f}\"\n",
    "elif max_count == q2_count:\n",
    "    most_frequent_range = f\"{q2:.2f} - {q3:.2f}\"\n",
    "else:\n",
    "    most_frequent_range = f\"{q3:.2f} and above\"\n",
    "\n",
    "print(f\"\\nMost Common Rating Range: {most_frequent_range} ({max_count} restaurants)\")\n"
   ]
  },
  {
   "cell_type": "code",
   "execution_count": null,
   "metadata": {},
   "outputs": [],
   "source": [
    "average_votes = df1['Votes'].mean()\n",
    "print(\"\\nAverage number of votes per restaurant:\", average_votes)\n"
   ]
  },
  {
   "cell_type": "code",
   "execution_count": null,
   "metadata": {},
   "outputs": [],
   "source": [
    "restaurant = df1.sort_values(by='Votes', ascending=False).iloc[0]['Restaurant Name']\n",
    "reviews = df1[df1['Restaurant Name'] == restaurant]['Votes'].values[0]\n",
    "print(f\"\\nRestaurant with the most reviews: {restaurant} ({reviews} reviews)\")"
   ]
  },
  {
   "cell_type": "code",
   "execution_count": null,
   "metadata": {},
   "outputs": [],
   "source": []
  }
 ],
 "metadata": {
  "kernelspec": {
   "display_name": "Python 3",
   "language": "python",
   "name": "python3"
  },
  "language_info": {
   "codemirror_mode": {
    "name": "ipython",
    "version": 3
   },
   "file_extension": ".py",
   "mimetype": "text/x-python",
   "name": "python",
   "nbconvert_exporter": "python",
   "pygments_lexer": "ipython3",
   "version": "3.12.0"
  }
 },
 "nbformat": 4,
 "nbformat_minor": 2
}
